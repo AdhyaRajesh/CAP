{
 "cells": [
  {
   "cell_type": "code",
   "execution_count": 88,
   "id": "273cc16f",
   "metadata": {},
   "outputs": [
    {
     "name": "stdout",
     "output_type": "stream",
     "text": [
      "False\n"
     ]
    }
   ],
   "source": [
    "import pandas as pd\n",
    "import numpy as np\n",
    "\n",
    "# Read the file into dataframe. Read only seleted columns which are required for analysis as the file is large\n",
    "df = pd.read_csv('311_Service_Requests_2020.csv',na_values='null', usecols=['Unique Key','Incident Zip', 'Complaint Type'], index_col='Unique Key', dtype={\"Unique Key\":str, \"Incident Zip\": str, \"Complaint Type\":str})\n",
    "df = df.dropna()\n",
    "\n",
    "# Function to cleanup zip and convert to str\n",
    "def fix_zip(input_zip):\n",
    "    try:\n",
    "        input_zip = int(float(input_zip))\n",
    "    except:\n",
    "        try:\n",
    "            input_zip = int(input_zip.split('-')[0])\n",
    "        except:\n",
    "            return np.NaN\n",
    "    if input_zip < 10000 or input_zip > 12000:\n",
    "        return np.NaN\n",
    "    return str(input_zip)\n",
    "\n",
    "df['Incident Zip'] = df['Incident Zip'].apply(fix_zip)\n",
    "df = df[df['Incident Zip'].notnull()]\n",
    "\n",
    "# Get count of all Parking complaints across all Zip code - Illegar Parking \n",
    "parking_across_zip = df[df['Complaint Type']=='Illegal Parking']['Complaint Type'].count()\n",
    "\n",
    "# Get total count of all complaints across all Zip code\n",
    "total_incidents_across_zip = df['Incident Zip'].count()\n",
    "\n",
    "# Compute fraction of Parking Incidents as compared to overall 311 incidents - Across all Zip\n",
    "parking_incident_fraction_across_zip = parking_across_zip /  total_incidents_across_zip\n",
    "\n",
    "# Get total count of all Parking complaints(Illegar Parking) in my Zip code 10025  \n",
    "total_incidents_zip_10025 = df[df['Incident Zip']=='10025']['Complaint Type'].count()\n",
    "\n",
    "# Get count of all Parking complaints(Illegal Parking) in my Zip code 10025  \n",
    "parking_zip_10025 = df[(df['Incident Zip']=='10025') & (df['Complaint Type']==\"Illegal Parking\")]['Incident Zip'].count()\n",
    "\n",
    "# Compute fraction of Parking Incidents as compared to overall 311 incidents - in my Zip 10025\n",
    "parking_incident_fraction_zip_10025 = parking_zip_10025 /  total_incidents_zip_10025\n",
    "\n",
    "# Compare the parking proportion across all with fraction from my Zip and the set boolean\n",
    "higher_parking_proportion = parking_incident_fraction_zip_10025 > parking_incident_fraction_across_zip\n",
    "print (higher_parking_proportion)\n"
   ]
  },
  {
   "cell_type": "code",
   "execution_count": 48,
   "id": "de7cf0cc",
   "metadata": {},
   "outputs": [],
   "source": []
  }
 ],
 "metadata": {
  "kernelspec": {
   "display_name": "Python 3",
   "language": "python",
   "name": "python3"
  },
  "language_info": {
   "codemirror_mode": {
    "name": "ipython",
    "version": 3
   },
   "file_extension": ".py",
   "mimetype": "text/x-python",
   "name": "python",
   "nbconvert_exporter": "python",
   "pygments_lexer": "ipython3",
   "version": "3.8.8"
  }
 },
 "nbformat": 4,
 "nbformat_minor": 5
}
